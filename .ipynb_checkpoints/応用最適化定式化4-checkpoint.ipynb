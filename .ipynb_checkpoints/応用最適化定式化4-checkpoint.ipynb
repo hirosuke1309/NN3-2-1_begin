{
 "cells": [
  {
   "cell_type": "code",
   "execution_count": 90,
   "metadata": {},
   "outputs": [],
   "source": [
    "import pulp\n",
    "import time\n",
    "import itertools\n",
    "from ortoolpy import addvars"
   ]
  },
  {
   "cell_type": "code",
   "execution_count": 149,
   "metadata": {},
   "outputs": [],
   "source": [
    "#processing_time\n",
    "p=[1, 93, 26, 30, 93, 76]\n",
    "#    , 48, 90, 98, 27, 78, 42, 75, 79, 79, 43, 95, 80, 83, 10]\n",
    "# weight\n",
    "w=[1, 3, 3, 5, 9, 7]\n",
    "#    , 3, 9, 10, 4, 8, 7, 9, 2, 10, 9, 5, 4, 1, 9]\n",
    "# relase_time\n",
    "r=[63,4,63,99,73,20]\n",
    "#    ,37,40,77,112,62,36,52,22,9,6,51,76,219,118]\n",
    "job_num=6\n",
    "\n",
    "problem = pulp.LpProblem()\n",
    "# pulp.LpMinimize : 最小化\n",
    "# pulp.LpMaximize : 最大化\n",
    "# デフォルトは最小化"
   ]
  },
  {
   "cell_type": "code",
   "execution_count": 150,
   "metadata": {},
   "outputs": [
    {
     "name": "stdout",
     "output_type": "stream",
     "text": [
      "[v000046, v000047, v000048, v000049, v000050, v000051]\n"
     ]
    }
   ],
   "source": [
    "# 変数宣言\n",
    "# lowBound, upBound を指定しないと、それぞれ -無限大, +無限大 になる\n",
    "# pulp.LpContinuous : 連続変数\n",
    "# pulp.LpInteger : 整数変数\n",
    "# pulp.LpBinary : 0-1変数\n",
    "\n",
    "# c=[0 for j in range(job_num)]\n",
    "# for j in range(job_num):\n",
    "#     c[j] = pulp.LpVariable(f\"c({j})\", pulp.LpInteger)\n",
    "print(c)\n",
    "c=addvars(len(r),cat='Integer')"
   ]
  },
  {
   "cell_type": "code",
   "execution_count": 151,
   "metadata": {},
   "outputs": [
    {
     "data": {
      "text/plain": [
       "op4:\n",
       "MINIMIZE\n",
       "1*v000052 + 3*v000053 + 3*v000054 + 5*v000055 + 9*v000056 + 7*v000057 + 0\n",
       "VARIABLES\n",
       "0 <= v000052 Integer\n",
       "0 <= v000053 Integer\n",
       "0 <= v000054 Integer\n",
       "0 <= v000055 Integer\n",
       "0 <= v000056 Integer\n",
       "0 <= v000057 Integer"
      ]
     },
     "execution_count": 151,
     "metadata": {},
     "output_type": "execute_result"
    }
   ],
   "source": [
    "# 目的関数\n",
    "problem+= sum(w[j] * c[j] for j in range(job_num))\n",
    "problem"
   ]
  },
  {
   "cell_type": "code",
   "execution_count": 152,
   "metadata": {},
   "outputs": [],
   "source": [
    "# 制約条件\n",
    "L=[0,1,2,3,4,5]\n",
    "for a in range(job_num):\n",
    "    l=list(itertools.combinations(L,a+1))\n",
    "    for b in range(len(l)):\n",
    "        x=list(l[b])\n",
    "        problem += sum(p[j]*c[j] for j in x) >= 1/2* (sum(p[j]**2 for j in x)) + 1/2*sum(p[j] for j in x)**2\n",
    "for j in range(job_num):\n",
    "    problem += c[j] >= r[j] + p[j]"
   ]
  },
  {
   "cell_type": "code",
   "execution_count": 153,
   "metadata": {},
   "outputs": [
    {
     "name": "stdout",
     "output_type": "stream",
     "text": [
      "Optimal\n",
      "complete time of job0: 64.0\n",
      "complete time of job1: 319.0\n",
      "complete time of job2: 89.0\n",
      "complete time of job3: 129.0\n",
      "complete time of job4: 166.0\n",
      "complete time of job5: 156.0\n",
      "time: 0.10381935099940165\n"
     ]
    }
   ],
   "source": [
    "time_start = time.perf_counter()\n",
    "status = problem.solve()\n",
    "# 時間計測終了\n",
    "time_stop = time.perf_counter()\n",
    "print(pulp.LpStatus[status])\n",
    "for j in range(job_num):\n",
    "    print('complete time of job'+str(j)+':' , c[j].value())\n",
    "# print(\"Obj.value\", ploblem.objective.value())\n",
    "print(\"time:\", time_stop-time_start)"
   ]
  },
  {
   "cell_type": "code",
   "execution_count": null,
   "metadata": {},
   "outputs": [],
   "source": []
  }
 ],
 "metadata": {
  "kernelspec": {
   "display_name": "Python 3",
   "language": "python",
   "name": "python3"
  },
  "language_info": {
   "codemirror_mode": {
    "name": "ipython",
    "version": 3
   },
   "file_extension": ".py",
   "mimetype": "text/x-python",
   "name": "python",
   "nbconvert_exporter": "python",
   "pygments_lexer": "ipython3",
   "version": "3.8.5"
  }
 },
 "nbformat": 4,
 "nbformat_minor": 4
}
