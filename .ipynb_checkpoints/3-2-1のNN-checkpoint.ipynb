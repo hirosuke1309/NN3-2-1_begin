{
 "cells": [
  {
   "cell_type": "markdown",
   "metadata": {},
   "source": [
    "https://tutorials.chainer.org/ja/13_Basics_of_Neural_Networks.html"
   ]
  },
  {
   "cell_type": "code",
   "execution_count": 10,
   "metadata": {},
   "outputs": [
    {
     "data": {
      "text/plain": [
       "array([2, 3, 1])"
      ]
     },
     "execution_count": 10,
     "metadata": {},
     "output_type": "execute_result"
    }
   ],
   "source": [
    "import numpy as np\n",
    "# 入力\n",
    "x = np.array([2, 3, 1])\n",
    "\n",
    "# 正解\n",
    "t = np.array([20])"
   ]
  },
  {
   "cell_type": "code",
   "execution_count": 3,
   "metadata": {},
   "outputs": [],
   "source": [
    "# 0-1層間のパラメータ\n",
    "w1 = np.array([[3, 1, 2], [-2, -3, -1]])\n",
    "b1 = np.array([0, 0])\n",
    "\n",
    "# 2-3層間のパラメータ\n",
    "w2 = np.array([[3, 2]])\n",
    "b2 = np.array([0])"
   ]
  },
  {
   "cell_type": "code",
   "execution_count": 4,
   "metadata": {},
   "outputs": [
    {
     "name": "stdout",
     "output_type": "stream",
     "text": [
      "[2.99995156]\n"
     ]
    }
   ],
   "source": [
    "# 中間層の計算\n",
    "u1 = w1.dot(x) + b1\n",
    "h1 = 1. / (1 + np.exp(-u1)) # 活性化関数\n",
    "\n",
    "# 出力の計算\n",
    "y = w2.dot(h1) + b2\n",
    "\n",
    "print(y)"
   ]
  },
  {
   "cell_type": "code",
   "execution_count": 5,
   "metadata": {},
   "outputs": [],
   "source": [
    "# dL / dy\n",
    "dLdy = -2 * (t - y)\n",
    "\n",
    "# dy / dw_2\n",
    "dydw2 = h1"
   ]
  },
  {
   "cell_type": "code",
   "execution_count": 6,
   "metadata": {},
   "outputs": [
    {
     "name": "stdout",
     "output_type": "stream",
     "text": [
      "[-3.39995290e+01 -2.82720335e-05]\n"
     ]
    }
   ],
   "source": [
    "# dL / dw_2: 求めたい勾配\n",
    "dLdw2 = dLdy * dydw2\n",
    "\n",
    "print(dLdw2)"
   ]
  },
  {
   "cell_type": "code",
   "execution_count": 7,
   "metadata": {},
   "outputs": [
    {
     "name": "stdout",
     "output_type": "stream",
     "text": [
      "[[-3.40704286e-03 -5.11056429e-03 -1.70352143e-03]\n",
      " [-1.13088040e-04 -1.69632060e-04 -5.65440200e-05]]\n"
     ]
    }
   ],
   "source": [
    "# d y / d h1\n",
    "dydh1 = w2\n",
    "\n",
    "# d h1 / d u1\n",
    "dh1du1 = h1 * (1 - h1)\n",
    "\n",
    "# d u_1 / d w1\n",
    "du1dw1 = x\n",
    "\n",
    "# 上から du1 / dw1 の直前までを一旦計算\n",
    "dLdu1 = dLdy * dydh1 * dh1du1\n",
    "\n",
    "# du1dw1は (3,) というshape(要素数1のタプル)なので、g_u1w1[None]として(1, 3)に変形\n",
    "du1dw1 = du1dw1[None]\n",
    "\n",
    "# dL / dw_1: 求めたい勾配\n",
    "dLdw1 = dLdu1.T.dot(du1dw1)\n",
    "\n",
    "print(dLdw1)"
   ]
  },
  {
   "cell_type": "code",
   "execution_count": null,
   "metadata": {},
   "outputs": [],
   "source": []
  }
 ],
 "metadata": {
  "kernelspec": {
   "display_name": "Python 3",
   "language": "python",
   "name": "python3"
  },
  "language_info": {
   "codemirror_mode": {
    "name": "ipython",
    "version": 3
   },
   "file_extension": ".py",
   "mimetype": "text/x-python",
   "name": "python",
   "nbconvert_exporter": "python",
   "pygments_lexer": "ipython3",
   "version": "3.8.5"
  }
 },
 "nbformat": 4,
 "nbformat_minor": 4
}
