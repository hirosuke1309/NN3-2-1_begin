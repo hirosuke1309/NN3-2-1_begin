{
 "cells": [
  {
   "cell_type": "code",
   "execution_count": 11,
   "metadata": {},
   "outputs": [],
   "source": [
    "import pulp\n",
    "import time\n",
    "import itertools\n",
    "from ortoolpy import addvars"
   ]
  },
  {
   "cell_type": "code",
   "execution_count": 12,
   "metadata": {},
   "outputs": [],
   "source": [
    "#processing_time\n",
    "p=[1, 93, 26, 30, 93]\n",
    "# , 76, 48, 90, 98, 27, 78, 42, 75, 79, 79]\n",
    "#, 43, 95, 80, 83, 10]\n",
    "# weight\n",
    "w=[1, 3, 3, 5, 9]\n",
    "# , 7, 3, 9, 10, 4 , 8, 7, 9, 2, 10]\n",
    "#    , 9, 5, 4, 1, 9]\n",
    "# relase_time\n",
    "r=[63,4,63,99,73]\n",
    "# ,20,37,40,77,112 ,62,36,52,22,9]\n",
    "# ,6,51,76,219,118]\n",
    "job_num=len(r)\n",
    "\n",
    "problem = pulp.LpProblem()\n",
    "# pulp.LpMinimize : 最小化\n",
    "# pulp.LpMaximize : 最大化\n",
    "# デフォルトは最小化"
   ]
  },
  {
   "cell_type": "code",
   "execution_count": 13,
   "metadata": {},
   "outputs": [],
   "source": [
    "# 変数宣言\n",
    "# lowBound, upBound を指定しないと、それぞれ -無限大, +無限大 になる\n",
    "# pulp.LpContinuous : 連続変数\n",
    "# pulp.LpInteger : 整数変数\n",
    "# pulp.LpBinary : 0-1変数\n",
    "\n",
    "# c=[0 for j in range(job_num)]\n",
    "# for j in range(job_num):\n",
    "#     c[j] = pulp.LpVariable(f\"c({j})\", pulp.LpInteger)\n",
    "c=addvars(len(r),cat='Integer')"
   ]
  },
  {
   "cell_type": "code",
   "execution_count": 14,
   "metadata": {},
   "outputs": [
    {
     "data": {
      "text/plain": [
       "NoName:\n",
       "MINIMIZE\n",
       "1*v000006 + 3*v000007 + 3*v000008 + 5*v000009 + 9*v000010 + 0\n",
       "VARIABLES\n",
       "0 <= v000006 Integer\n",
       "0 <= v000007 Integer\n",
       "0 <= v000008 Integer\n",
       "0 <= v000009 Integer\n",
       "0 <= v000010 Integer"
      ]
     },
     "execution_count": 14,
     "metadata": {},
     "output_type": "execute_result"
    }
   ],
   "source": [
    "# 目的関数\n",
    "problem+= sum(w[j] * c[j] for j in range(job_num))\n",
    "problem"
   ]
  },
  {
   "cell_type": "code",
   "execution_count": 15,
   "metadata": {},
   "outputs": [
    {
     "data": {
      "text/plain": [
       "NoName:\n",
       "MINIMIZE\n",
       "1*v000006 + 3*v000007 + 3*v000008 + 5*v000009 + 9*v000010 + 0\n",
       "SUBJECT TO\n",
       "_C1: v000006 >= 1\n",
       "\n",
       "_C2: 93 v000007 >= 8649\n",
       "\n",
       "_C3: 26 v000008 >= 676\n",
       "\n",
       "_C4: 30 v000009 >= 900\n",
       "\n",
       "_C5: 93 v000010 >= 8649\n",
       "\n",
       "_C6: v000006 + 93 v000007 >= 8743\n",
       "\n",
       "_C7: v000006 + 26 v000008 >= 703\n",
       "\n",
       "_C8: v000006 + 30 v000009 >= 931\n",
       "\n",
       "_C9: v000006 + 93 v000010 >= 8743\n",
       "\n",
       "_C10: 93 v000007 + 26 v000008 >= 11743\n",
       "\n",
       "_C11: 93 v000007 + 30 v000009 >= 12339\n",
       "\n",
       "_C12: 93 v000007 + 93 v000010 >= 25947\n",
       "\n",
       "_C13: 26 v000008 + 30 v000009 >= 2356\n",
       "\n",
       "_C14: 26 v000008 + 93 v000010 >= 11743\n",
       "\n",
       "_C15: 30 v000009 + 93 v000010 >= 12339\n",
       "\n",
       "_C16: v000006 + 93 v000007 + 26 v000008 >= 11863\n",
       "\n",
       "_C17: v000006 + 93 v000007 + 30 v000009 >= 12463\n",
       "\n",
       "_C18: v000006 + 93 v000007 + 93 v000010 >= 26134\n",
       "\n",
       "_C19: v000006 + 26 v000008 + 30 v000009 >= 2413\n",
       "\n",
       "_C20: v000006 + 26 v000008 + 93 v000010 >= 11863\n",
       "\n",
       "_C21: v000006 + 30 v000009 + 93 v000010 >= 12463\n",
       "\n",
       "_C22: 93 v000007 + 26 v000008 + 30 v000009 >= 16213\n",
       "\n",
       "_C23: 93 v000007 + 26 v000008 + 93 v000010 >= 31459\n",
       "\n",
       "_C24: 93 v000007 + 30 v000009 + 93 v000010 >= 32427\n",
       "\n",
       "_C25: 26 v000008 + 30 v000009 + 93 v000010 >= 16213\n",
       "\n",
       "_C26: v000006 + 93 v000007 + 26 v000008 + 30 v000009 >= 16363\n",
       "\n",
       "_C27: v000006 + 93 v000007 + 26 v000008 + 93 v000010 >= 31672\n",
       "\n",
       "_C28: v000006 + 93 v000007 + 30 v000009 + 93 v000010 >= 32644\n",
       "\n",
       "_C29: v000006 + 26 v000008 + 30 v000009 + 93 v000010 >= 16363\n",
       "\n",
       "_C30: 93 v000007 + 26 v000008 + 30 v000009 + 93 v000010 >= 38719\n",
       "\n",
       "_C31: v000006 + 93 v000007 + 26 v000008 + 30 v000009 + 93 v000010 >= 38962\n",
       "\n",
       "_C32: v000006 >= 64\n",
       "\n",
       "_C33: v000007 >= 97\n",
       "\n",
       "_C34: v000008 >= 89\n",
       "\n",
       "_C35: v000009 >= 129\n",
       "\n",
       "_C36: v000010 >= 166\n",
       "\n",
       "VARIABLES\n",
       "0 <= v000006 Integer\n",
       "0 <= v000007 Integer\n",
       "0 <= v000008 Integer\n",
       "0 <= v000009 Integer\n",
       "0 <= v000010 Integer"
      ]
     },
     "execution_count": 15,
     "metadata": {},
     "output_type": "execute_result"
    }
   ],
   "source": [
    "# 制約条件\n",
    "L=list(range(job_num))\n",
    "for a in range(job_num):\n",
    "    l=list(itertools.combinations(L,a+1))\n",
    "    for b in range(len(l)):\n",
    "        x=list(l[b])\n",
    "        problem += sum(p[j]*c[j] for j in x) >= 1/2* (sum(p[j]**2 for j in x)) + 1/2*sum(p[j] for j in x)**2\n",
    "for j in range(job_num):\n",
    "    problem += c[j] >= r[j] + p[j]\n",
    "problem"
   ]
  },
  {
   "cell_type": "code",
   "execution_count": 16,
   "metadata": {},
   "outputs": [
    {
     "name": "stdout",
     "output_type": "stream",
     "text": [
      "Optimal\n",
      "complete time of job0: 64.0\n",
      "complete time of job1: 186.0\n",
      "complete time of job2: 89.0\n",
      "complete time of job3: 129.0\n",
      "complete time of job4: 166.0\n",
      "Obj.value 3028.0\n",
      "time: 0.04002262099999143\n"
     ]
    }
   ],
   "source": [
    "time_start = time.perf_counter()\n",
    "status = problem.solve()\n",
    "# 時間計測終了\n",
    "time_stop = time.perf_counter()\n",
    "print(pulp.LpStatus[status])\n",
    "for j in range(job_num):\n",
    "    print('complete time of job'+str(j)+':' , c[j].value())\n",
    "print(\"Obj.value\", problem.objective.value())\n",
    "print(\"time:\", time_stop-time_start)"
   ]
  },
  {
   "cell_type": "code",
   "execution_count": null,
   "metadata": {},
   "outputs": [],
   "source": []
  }
 ],
 "metadata": {
  "kernelspec": {
   "display_name": "Python 3",
   "language": "python",
   "name": "python3"
  },
  "language_info": {
   "codemirror_mode": {
    "name": "ipython",
    "version": 3
   },
   "file_extension": ".py",
   "mimetype": "text/x-python",
   "name": "python",
   "nbconvert_exporter": "python",
   "pygments_lexer": "ipython3",
   "version": "3.8.5"
  }
 },
 "nbformat": 4,
 "nbformat_minor": 4
}
