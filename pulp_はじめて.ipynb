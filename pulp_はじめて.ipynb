{
 "cells": [
  {
   "cell_type": "code",
   "execution_count": 1,
   "metadata": {},
   "outputs": [],
   "source": [
    "import pulp\n",
    "import time"
   ]
  },
  {
   "cell_type": "code",
   "execution_count": 2,
   "metadata": {},
   "outputs": [],
   "source": [
    "staff_num = 5\n",
    "job_num = 3\n",
    "required = [2,2,1]\n",
    "cost=[[5,4,2,3,1],\n",
    "      [4,5,1,2,1],\n",
    "      [3,3,4,2,2]]"
   ]
  },
  {
   "cell_type": "code",
   "execution_count": 3,
   "metadata": {},
   "outputs": [],
   "source": [
    "# 数理最適化問題（最小化）を宣言\n",
    "assignment = pulp.LpProblem(\"example\", pulp.LpMinimize)\n",
    "# pulp.LpMinimize : 最小化\n",
    "# pulp.LpMaximize : 最大化"
   ]
  },
  {
   "cell_type": "code",
   "execution_count": 4,
   "metadata": {},
   "outputs": [
    {
     "name": "stdout",
     "output_type": "stream",
     "text": [
      "x(0,0)\n",
      "x(0,1)\n",
      "x(0,2)\n",
      "x(0,3)\n",
      "x(0,4)\n",
      "x(1,0)\n",
      "x(1,1)\n",
      "x(1,2)\n",
      "x(1,3)\n",
      "x(1,4)\n",
      "x(2,0)\n",
      "x(2,1)\n",
      "x(2,2)\n",
      "x(2,3)\n",
      "x(2,4)\n",
      "[[x(0,0), x(0,1), x(0,2), x(0,3), x(0,4)], [x(1,0), x(1,1), x(1,2), x(1,3), x(1,4)], [x(2,0), x(2,1), x(2,2), x(2,3), x(2,4)]]\n"
     ]
    }
   ],
   "source": [
    "# 変数宣言\n",
    "# lowBound, upBound を指定しないと、それぞれ -無限大, +無限大 になる\n",
    "# pulp.LpContinuous : 連続変数\n",
    "# pulp.LpInteger : 整数変数\n",
    "# pulp.LpBinary : 0-1変数\n",
    "\n",
    "# 中身0,5×3の配列を作成\n",
    "x=[[0 for i in range(staff_num)]for j in range(job_num)]\n",
    "# \n",
    "for j in range(job_num):\n",
    "    for i in range(staff_num):\n",
    "        #　変数の宣言　変数名，最小値，最大値，変数の種類\n",
    "        x[j][i] = pulp.LpVariable(f\"x({j},{i})\", 0, 1, pulp.LpInteger)\n",
    "        print(x[j][i])\n",
    "print(x)"
   ]
  },
  {
   "cell_type": "code",
   "execution_count": 5,
   "metadata": {},
   "outputs": [
    {
     "data": {
      "text/plain": [
       "example:\n",
       "MINIMIZE\n",
       "5*x(0,0) + 4*x(0,1) + 2*x(0,2) + 3*x(0,3) + 1*x(0,4) + 4*x(1,0) + 5*x(1,1) + 1*x(1,2) + 2*x(1,3) + 1*x(1,4) + 3*x(2,0) + 3*x(2,1) + 4*x(2,2) + 2*x(2,3) + 2*x(2,4) + 0\n",
       "VARIABLES\n",
       "0 <= x(0,0) <= 1 Integer\n",
       "0 <= x(0,1) <= 1 Integer\n",
       "0 <= x(0,2) <= 1 Integer\n",
       "0 <= x(0,3) <= 1 Integer\n",
       "0 <= x(0,4) <= 1 Integer\n",
       "0 <= x(1,0) <= 1 Integer\n",
       "0 <= x(1,1) <= 1 Integer\n",
       "0 <= x(1,2) <= 1 Integer\n",
       "0 <= x(1,3) <= 1 Integer\n",
       "0 <= x(1,4) <= 1 Integer\n",
       "0 <= x(2,0) <= 1 Integer\n",
       "0 <= x(2,1) <= 1 Integer\n",
       "0 <= x(2,2) <= 1 Integer\n",
       "0 <= x(2,3) <= 1 Integer\n",
       "0 <= x(2,4) <= 1 Integer"
      ]
     },
     "execution_count": 5,
     "metadata": {},
     "output_type": "execute_result"
    }
   ],
   "source": [
    "# 目的関数\n",
    "assignment+= sum(cost[j][i] * x[j][i] for i in range(staff_num) for j in range(job_num))\n",
    "assignment"
   ]
  },
  {
   "cell_type": "code",
   "execution_count": 6,
   "metadata": {},
   "outputs": [
    {
     "name": "stdout",
     "output_type": "stream",
     "text": [
      "example:\n",
      "MINIMIZE\n",
      "5*x(0,0) + 4*x(0,1) + 2*x(0,2) + 3*x(0,3) + 1*x(0,4) + 4*x(1,0) + 5*x(1,1) + 1*x(1,2) + 2*x(1,3) + 1*x(1,4) + 3*x(2,0) + 3*x(2,1) + 4*x(2,2) + 2*x(2,3) + 2*x(2,4) + 0\n",
      "SUBJECT TO\n",
      "_C1: x(0,0) + x(0,1) + x(0,2) + x(0,3) + x(0,4) >= 2\n",
      "\n",
      "_C2: x(1,0) + x(1,1) + x(1,2) + x(1,3) + x(1,4) >= 2\n",
      "\n",
      "_C3: x(2,0) + x(2,1) + x(2,2) + x(2,3) + x(2,4) >= 1\n",
      "\n",
      "_C4: x(0,0) + x(1,0) + x(2,0) = 1\n",
      "\n",
      "_C5: x(0,1) + x(1,1) + x(2,1) = 1\n",
      "\n",
      "_C6: x(0,2) + x(1,2) + x(2,2) = 1\n",
      "\n",
      "_C7: x(0,3) + x(1,3) + x(2,3) = 1\n",
      "\n",
      "_C8: x(0,4) + x(1,4) + x(2,4) = 1\n",
      "\n",
      "VARIABLES\n",
      "0 <= x(0,0) <= 1 Integer\n",
      "0 <= x(0,1) <= 1 Integer\n",
      "0 <= x(0,2) <= 1 Integer\n",
      "0 <= x(0,3) <= 1 Integer\n",
      "0 <= x(0,4) <= 1 Integer\n",
      "0 <= x(1,0) <= 1 Integer\n",
      "0 <= x(1,1) <= 1 Integer\n",
      "0 <= x(1,2) <= 1 Integer\n",
      "0 <= x(1,3) <= 1 Integer\n",
      "0 <= x(1,4) <= 1 Integer\n",
      "0 <= x(2,0) <= 1 Integer\n",
      "0 <= x(2,1) <= 1 Integer\n",
      "0 <= x(2,2) <= 1 Integer\n",
      "0 <= x(2,3) <= 1 Integer\n",
      "0 <= x(2,4) <= 1 Integer\n",
      "\n"
     ]
    }
   ],
   "source": [
    "# 制約条件\n",
    "for j in range(job_num):\n",
    "    assignment += sum(x[j][i] for i in range(staff_num)) >= required[j]#reqired[0]==2\n",
    "for i in range(staff_num):\n",
    "    assignment += sum(x[j][i] for j in range(job_num)) == 1\n",
    "print(assignment)  "
   ]
  },
  {
   "cell_type": "code",
   "execution_count": null,
   "metadata": {},
   "outputs": [],
   "source": []
  },
  {
   "cell_type": "code",
   "execution_count": 7,
   "metadata": {},
   "outputs": [
    {
     "name": "stdout",
     "output_type": "stream",
     "text": [
      "Optimal\n",
      "0 -> 2\n",
      "1 -> 0\n",
      "2 -> 1\n",
      "3 -> 1\n",
      "4 -> 0\n",
      "Obj.value 11.0\n",
      "time: 0.024814551001327345\n"
     ]
    }
   ],
   "source": [
    "# 時間計測開始\n",
    "time_start = time.perf_counter()\n",
    "status = assignment.solve()\n",
    "# 時間計測終了\n",
    "time_stop = time.perf_counter()\n",
    "print(pulp.LpStatus[status])\n",
    "\n",
    "for i in range(staff_num):\n",
    "    for j in range(job_num):\n",
    "        if x[j][i].value() == 1 :\n",
    "            print(i,\"->\",j)\n",
    "            \n",
    "print(\"Obj.value\", assignment.objective.value())\n",
    "print(\"time:\", time_stop-time_start)"
   ]
  },
  {
   "cell_type": "code",
   "execution_count": 20,
   "metadata": {},
   "outputs": [
    {
     "name": "stdout",
     "output_type": "stream",
     "text": [
      "Optimal\n",
      "0 -> 2\n",
      "1 -> 0\n",
      "2 -> 1\n",
      "3 -> 1\n",
      "4 -> 0\n",
      "Obj.value 11.0\n",
      "time: 0.04546035800001391\n"
     ]
    }
   ],
   "source": [
    "staff_num = 5\n",
    "job_num = 3\n",
    "required = [2,2,1]\n",
    "cost=[[5,4,2,3,1],\n",
    " [4,5,1,2,1],\n",
    " [3,3,4,2,2]]\n",
    "assignment = pulp.LpProblem(\"example\", pulp.LpMinimize)\n",
    "# pulp.LpMinimize : 最小化\n",
    "# pulp.LpMaximize : 最大化\n",
    "# 変数宣言\n",
    "# lowBound, upBound を指定しないと、それぞれ -無限大, +無限大 になる\n",
    "# pulp.LpContinuous : 連続変数\n",
    "# pulp.LpInteger : 整数変数\n",
    "# pulp.LpBinary : 0-1変数\n",
    "x=[[0 for i in range(staff_num)]for j in range(job_num)]\n",
    "for j in range(job_num):\n",
    "    for i in range(staff_num):\n",
    "        x[j][i] = pulp.LpVariable(f\"x({j},{i})\", 0, 1, pulp.LpInteger)\n",
    "# 目的関数\n",
    "assignment+= sum(cost[j][i] * x[j][i] for i in range(staff_num) for j in range(job_num))\n",
    "# 制約条件\n",
    "for i in range(staff_num):\n",
    "    assignment += sum(x[j][i] for j in range(job_num)) == 1\n",
    "for j in range(job_num):\n",
    "    assignment += sum(x[j][i] for i in range(staff_num)) >= required[j]\n",
    "# 時間計測開始\n",
    "time_start = time.perf_counter()\n",
    "status = assignment.solve()\n",
    "# 時間計測終了\n",
    "time_stop = time.perf_counter()\n",
    "print(pulp.LpStatus[status])\n",
    "for i in range(staff_num):\n",
    "    for j in range(job_num):\n",
    "        if x[j][i].value() == 1 :\n",
    "            print(i,\"->\",j)\n",
    "print(\"Obj.value\", assignment.objective.value())\n",
    "print(\"time:\", time_stop-time_start)"
   ]
  },
  {
   "cell_type": "code",
   "execution_count": null,
   "metadata": {},
   "outputs": [],
   "source": []
  }
 ],
 "metadata": {
  "kernelspec": {
   "display_name": "Python 3",
   "language": "python",
   "name": "python3"
  },
  "language_info": {
   "codemirror_mode": {
    "name": "ipython",
    "version": 3
   },
   "file_extension": ".py",
   "mimetype": "text/x-python",
   "name": "python",
   "nbconvert_exporter": "python",
   "pygments_lexer": "ipython3",
   "version": "3.8.5"
  }
 },
 "nbformat": 4,
 "nbformat_minor": 4
}
