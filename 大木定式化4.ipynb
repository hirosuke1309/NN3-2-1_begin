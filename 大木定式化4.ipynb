{
 "cells": [
  {
   "cell_type": "code",
   "execution_count": 6,
   "metadata": {},
   "outputs": [],
   "source": [
    "import pandas as pd\n",
    "import numpy as np\n",
    "from pulp import *\n",
    "from ortoolpy import addvars"
   ]
  },
  {
   "cell_type": "code",
   "execution_count": 7,
   "metadata": {},
   "outputs": [],
   "source": [
    "import math\n",
    "import itertools"
   ]
  },
  {
   "cell_type": "code",
   "execution_count": 8,
   "metadata": {},
   "outputs": [],
   "source": [
    "df=pd.DataFrame([[1, 93, 26, 30, 93],[1, 3, 3, 5, 9],[63,4,63,99,73]],index=['p_j','w_j','r_j'],columns=['J1','J2','J3','J4','J5'])"
   ]
  },
  {
   "cell_type": "code",
   "execution_count": 9,
   "metadata": {},
   "outputs": [
    {
     "data": {
      "text/plain": [
       "NoName:\n",
       "MINIMIZE\n",
       "1*v000006 + 3*v000007 + 3*v000008 + 5*v000009 + 9*v000010 + 0\n",
       "VARIABLES\n",
       "0 <= v000006 Integer\n",
       "0 <= v000007 Integer\n",
       "0 <= v000008 Integer\n",
       "0 <= v000009 Integer\n",
       "0 <= v000010 Integer"
      ]
     },
     "execution_count": 9,
     "metadata": {},
     "output_type": "execute_result"
    }
   ],
   "source": [
    "M=LpProblem()\n",
    "C=addvars(5,cat='Integer')\n",
    "M+=lpSum(df.iloc[1][i]*C[i] for i in range(5))\n",
    "M"
   ]
  },
  {
   "cell_type": "code",
   "execution_count": 10,
   "metadata": {},
   "outputs": [
    {
     "data": {
      "text/plain": [
       "NoName:\n",
       "MINIMIZE\n",
       "1*v000006 + 3*v000007 + 3*v000008 + 5*v000009 + 9*v000010 + 0\n",
       "SUBJECT TO\n",
       "_C1: v000006 >= 0.75\n",
       "\n",
       "_C2: 93 v000007 >= 6486.75\n",
       "\n",
       "_C3: 26 v000008 >= 507\n",
       "\n",
       "_C4: 30 v000009 >= 675\n",
       "\n",
       "_C5: 93 v000010 >= 6486.75\n",
       "\n",
       "_C6: v000006 + 93 v000007 >= 6534\n",
       "\n",
       "_C7: v000006 + 26 v000008 >= 520.75\n",
       "\n",
       "_C8: v000006 + 30 v000009 >= 690.75\n",
       "\n",
       "_C9: v000006 + 93 v000010 >= 6534\n",
       "\n",
       "_C10: 93 v000007 + 26 v000008 >= 8202.75\n",
       "\n",
       "_C11: 93 v000007 + 30 v000009 >= 8556.75\n",
       "\n",
       "_C12: 93 v000007 + 93 v000010 >= 17298\n",
       "\n",
       "_C13: 26 v000008 + 30 v000009 >= 1572\n",
       "\n",
       "_C14: 26 v000008 + 93 v000010 >= 8202.75\n",
       "\n",
       "_C15: 30 v000009 + 93 v000010 >= 8556.75\n",
       "\n",
       "_C16: v000006 + 93 v000007 + 26 v000008 >= 8263\n",
       "\n",
       "_C17: v000006 + 93 v000007 + 30 v000009 >= 8619\n",
       "\n",
       "_C18: v000006 + 93 v000007 + 93 v000010 >= 17391.75\n",
       "\n",
       "_C19: v000006 + 26 v000008 + 30 v000009 >= 1600.75\n",
       "\n",
       "_C20: v000006 + 26 v000008 + 93 v000010 >= 8263\n",
       "\n",
       "_C21: v000006 + 30 v000009 + 93 v000010 >= 8619\n",
       "\n",
       "_C22: 93 v000007 + 26 v000008 + 30 v000009 >= 10662.75\n",
       "\n",
       "_C23: 93 v000007 + 26 v000008 + 93 v000010 >= 20223\n",
       "\n",
       "_C24: 93 v000007 + 30 v000009 + 93 v000010 >= 20763\n",
       "\n",
       "_C25: 26 v000008 + 30 v000009 + 93 v000010 >= 10662.75\n",
       "\n",
       "_C26: v000006 + 93 v000007 + 26 v000008 + 30 v000009 >= 10738\n",
       "\n",
       "_C27: v000006 + 93 v000007 + 26 v000008 + 93 v000010 >= 20329.75\n",
       "\n",
       "_C28: v000006 + 93 v000007 + 30 v000009 + 93 v000010 >= 20871.75\n",
       "\n",
       "_C29: v000006 + 26 v000008 + 30 v000009 + 93 v000010 >= 10738\n",
       "\n",
       "_C30: 93 v000007 + 26 v000008 + 30 v000009 + 93 v000010 >= 24078\n",
       "\n",
       "_C31: v000006 + 93 v000007 + 26 v000008 + 30 v000009 + 93 v000010 >= 24199.75\n",
       "\n",
       "_C32: v000006 >= 64\n",
       "\n",
       "_C33: v000007 >= 97\n",
       "\n",
       "_C34: v000008 >= 89\n",
       "\n",
       "_C35: v000009 >= 129\n",
       "\n",
       "_C36: v000010 >= 166\n",
       "\n",
       "VARIABLES\n",
       "0 <= v000006 Integer\n",
       "0 <= v000007 Integer\n",
       "0 <= v000008 Integer\n",
       "0 <= v000009 Integer\n",
       "0 <= v000010 Integer"
      ]
     },
     "execution_count": 10,
     "metadata": {},
     "output_type": "execute_result"
    }
   ],
   "source": [
    "L=[1,2,3,4,5]\n",
    "for a in range(5):\n",
    "    l=list(itertools.combinations(L,a+1))\n",
    "    for b in range(len(l)):\n",
    "        x=list(l[b])\n",
    "        M+=sum(df.iloc[0][i-1]*C[i-1] for i in x)>=1/2*(sum(df.iloc[0][j-1]**2 for j in x)+ 1/2*sum(df.iloc[0][k-1] for k in x)**2)\n",
    "for c in range(5):\n",
    "    M+=C[c]>=df.iloc[0][c]+df.iloc[2][c]\n",
    "M"
   ]
  },
  {
   "cell_type": "code",
   "execution_count": 11,
   "metadata": {},
   "outputs": [
    {
     "data": {
      "text/plain": [
       "1"
      ]
     },
     "execution_count": 11,
     "metadata": {},
     "output_type": "execute_result"
    }
   ],
   "source": [
    "M.solve()"
   ]
  },
  {
   "cell_type": "code",
   "execution_count": 12,
   "metadata": {},
   "outputs": [
    {
     "name": "stdout",
     "output_type": "stream",
     "text": [
      "64.0\n",
      "97.0\n",
      "89.0\n",
      "129.0\n",
      "166.0\n"
     ]
    }
   ],
   "source": [
    "for a in range(5):\n",
    "    print(value(C[a]))"
   ]
  },
  {
   "cell_type": "code",
   "execution_count": 13,
   "metadata": {},
   "outputs": [
    {
     "name": "stdout",
     "output_type": "stream",
     "text": [
      "Obj.value 2761.0\n"
     ]
    }
   ],
   "source": [
    "print(\"Obj.value\", M.objective.value())"
   ]
  },
  {
   "cell_type": "code",
   "execution_count": 14,
   "metadata": {},
   "outputs": [
    {
     "name": "stdout",
     "output_type": "stream",
     "text": [
      "[1]\n",
      "[2]\n",
      "[3]\n",
      "[4]\n",
      "[5]\n",
      "[1, 2]\n",
      "[1, 3]\n",
      "[1, 4]\n",
      "[1, 5]\n",
      "[2, 3]\n",
      "[2, 4]\n",
      "[2, 5]\n",
      "[3, 4]\n",
      "[3, 5]\n",
      "[4, 5]\n",
      "[1, 2, 3]\n",
      "[1, 2, 4]\n",
      "[1, 2, 5]\n",
      "[1, 3, 4]\n",
      "[1, 3, 5]\n",
      "[1, 4, 5]\n",
      "[2, 3, 4]\n",
      "[2, 3, 5]\n",
      "[2, 4, 5]\n",
      "[3, 4, 5]\n",
      "[1, 2, 3, 4]\n",
      "[1, 2, 3, 5]\n",
      "[1, 2, 4, 5]\n",
      "[1, 3, 4, 5]\n",
      "[2, 3, 4, 5]\n",
      "[1, 2, 3, 4, 5]\n"
     ]
    }
   ],
   "source": [
    "L=[1,2,3,4,5]\n",
    "for a in range(5):\n",
    "    l=list(itertools.combinations(L,a+1))\n",
    "    for b in range(len(l)):\n",
    "        x=list(l[b])\n",
    "        print(x)"
   ]
  },
  {
   "cell_type": "code",
   "execution_count": null,
   "metadata": {},
   "outputs": [],
   "source": []
  },
  {
   "cell_type": "code",
   "execution_count": null,
   "metadata": {},
   "outputs": [],
   "source": []
  }
 ],
 "metadata": {
  "kernelspec": {
   "display_name": "Python 3",
   "language": "python",
   "name": "python3"
  },
  "language_info": {
   "codemirror_mode": {
    "name": "ipython",
    "version": 3
   },
   "file_extension": ".py",
   "mimetype": "text/x-python",
   "name": "python",
   "nbconvert_exporter": "python",
   "pygments_lexer": "ipython3",
   "version": "3.8.5"
  }
 },
 "nbformat": 4,
 "nbformat_minor": 4
}
